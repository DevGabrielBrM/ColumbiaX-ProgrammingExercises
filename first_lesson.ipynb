{
 "cells": [
  {
   "cell_type": "code",
   "execution_count": 1,
   "metadata": {},
   "outputs": [],
   "source": [
    "import numpy as np  \n",
    "import csv"
   ]
  },
  {
   "cell_type": "code",
   "execution_count": 2,
   "metadata": {},
   "outputs": [
    {
     "name": "stdout",
     "output_type": "stream",
     "text": [
      "['Series_reference', 'Period', 'Data_value', 'Suppressed', 'STATUS', 'UNITS', 'Magnitude', 'Subject', 'Group', 'Series_title_1', 'Series_title_2', 'Series_title_3', 'Series_title_4', 'Series_title_5']\n",
      "['BDCQ.SEA1AA', '2011.06', '80078', '', 'F', 'Number', '0', 'Business Data Collection - BDC', 'Industry by employment variable', 'Filled jobs', 'Agriculture, Forestry and Fishing', 'Actual', '', '']\n",
      "['BDCQ.SEA1AA', '2011.09', '78324', '', 'F', 'Number', '0', 'Business Data Collection - BDC', 'Industry by employment variable', 'Filled jobs', 'Agriculture, Forestry and Fishing', 'Actual', '', '']\n",
      "['BDCQ.SEA1AA', '2011.12', '85850', '', 'F', 'Number', '0', 'Business Data Collection - BDC', 'Industry by employment variable', 'Filled jobs', 'Agriculture, Forestry and Fishing', 'Actual', '', '']\n",
      "['BDCQ.SEA1AA', '2012.03', '90743', '', 'F', 'Number', '0', 'Business Data Collection - BDC', 'Industry by employment variable', 'Filled jobs', 'Agriculture, Forestry and Fishing', 'Actual', '', '']\n"
     ]
    }
   ],
   "source": [
    "with open(\"machine-readable-business-employment-data-mar-2024-quarter.csv\") as file:\n",
    "    reader = csv.reader(file)\n",
    "\n",
    "    for i in range(5):\n",
    "        row= next(reader)\n",
    "        print(row)"
   ]
  }
 ],
 "metadata": {
  "kernelspec": {
   "display_name": "Python 3",
   "language": "python",
   "name": "python3"
  },
  "language_info": {
   "codemirror_mode": {
    "name": "ipython",
    "version": 3
   },
   "file_extension": ".py",
   "mimetype": "text/x-python",
   "name": "python",
   "nbconvert_exporter": "python",
   "pygments_lexer": "ipython3",
   "version": "3.12.4"
  }
 },
 "nbformat": 4,
 "nbformat_minor": 2
}
