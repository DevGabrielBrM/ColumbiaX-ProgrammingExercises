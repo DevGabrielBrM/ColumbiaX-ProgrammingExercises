{
 "cells": [
  {
   "cell_type": "markdown",
   "metadata": {},
   "source": [
    "An integer  can be converted to a binary representation by calculating the last bit and then recursively converting n/2. \n",
    "\n",
    "Implement this conversion algorithm using a recursive function. \n",
    "\n",
    "The result should be a string of bits (0 and 1). For example, converting n = 27 should result in 11011.\n",
    "\n",
    "Next, try to generalize your function so that it can convert an integer into a numeric representation using any base. \n",
    "\n",
    "For example, the octal (base 8) representation of n = 27 should be 33."
   ]
  },
  {
   "cell_type": "code",
   "execution_count": 17,
   "metadata": {},
   "outputs": [
    {
     "name": "stdout",
     "output_type": "stream",
     "text": [
      "33\n"
     ]
    }
   ],
   "source": [
    "def binary_conversion(x):\n",
    "    if x == 0:\n",
    "        return '0'\n",
    "    elif x == 1:\n",
    "        return '1'\n",
    "    quotient = x // 2\n",
    "    remainder = x % 2\n",
    "    return binary_conversion(quotient) + str(remainder)\n",
    "\n",
    "# Use Case\n",
    "x = 27\n",
    "binary_representation = binary_conversion(x)\n",
    "print(binary_representation)\n",
    "\n",
    "\n"
   ]
  },
  {
   "cell_type": "code",
   "execution_count": 22,
   "metadata": {},
   "outputs": [
    {
     "name": "stdout",
     "output_type": "stream",
     "text": [
      "62\n",
      "756B5B3\n"
     ]
    }
   ],
   "source": [
    "def convert_to_base(x, base):\n",
    "    if x == 0:\n",
    "        return '0'\n",
    "    \n",
    "    digits = []\n",
    "    while x > 0:\n",
    "        remainder = x % base\n",
    "        if remainder >= 10:\n",
    "            digits.append(chr(remainder + 55))  # Convert remainders 10-15 to A-F\n",
    "        else:\n",
    "            digits.append(str(remainder))\n",
    "        x = x // base\n",
    "    \n",
    "    return ''.join(reversed(digits))\n",
    "\n",
    "\n",
    "# Use Case\n",
    "n = 50\n",
    "base = 8\n",
    "representation = convert_to_base(n, base)\n",
    "print(representation)  \n",
    "\n",
    "# Use case 2\n",
    "n2 = 123123123\n",
    "base2 = 16\n",
    "representation2 = convert_to_base(n2,base2)\n",
    "print(representation2)"
   ]
  }
 ],
 "metadata": {
  "kernelspec": {
   "display_name": "Python 3",
   "language": "python",
   "name": "python3"
  },
  "language_info": {
   "codemirror_mode": {
    "name": "ipython",
    "version": 3
   },
   "file_extension": ".py",
   "mimetype": "text/x-python",
   "name": "python",
   "nbconvert_exporter": "python",
   "pygments_lexer": "ipython3",
   "version": "3.12.4"
  }
 },
 "nbformat": 4,
 "nbformat_minor": 2
}
